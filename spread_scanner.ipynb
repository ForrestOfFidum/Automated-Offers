{
  "nbformat": 4,
  "nbformat_minor": 0,
  "metadata": {
    "colab": {
      "provenance": [],
      "toc_visible": true,
      "authorship_tag": "ABX9TyPgVwOY1Sv2yCN3YvOCRM2m",
      "include_colab_link": true
    },
    "kernelspec": {
      "name": "python3",
      "display_name": "Python 3"
    },
    "language_info": {
      "name": "python"
    }
  },
  "cells": [
    {
      "cell_type": "markdown",
      "metadata": {
        "id": "view-in-github",
        "colab_type": "text"
      },
      "source": [
        "<a href=\"https://colab.research.google.com/github/ForrestOfFidum/Automated-Offers/blob/master/spread_scanner.ipynb\" target=\"_parent\"><img src=\"https://colab.research.google.com/assets/colab-badge.svg\" alt=\"Open In Colab\"/></a>"
      ]
    },
    {
      "cell_type": "markdown",
      "source": [
        "\n",
        "\n",
        "```\n",
        "https://algotrading101.com/learn/yahoo-finance-api-guide/#:~:text=Yahoo_fin%20is%20another%20completely%20free,of%20fundamentals%20and%20options%20data.\n",
        "```\n",
        "\n"
      ],
      "metadata": {
        "id": "0Xc4EVNcISo5"
      }
    },
    {
      "cell_type": "code",
      "execution_count": null,
      "metadata": {
        "id": "cDN_RNj9Fitc"
      },
      "outputs": [],
      "source": [
        "!pip install yahoo_fin\n",
        "!pip install requests_html\n"
      ]
    },
    {
      "cell_type": "code",
      "source": [
        "from yahoo_fin.stock_info import get_data\n",
        "import yahoo_fin.options as ops\n",
        "import yahoo_fin.stock_info as si\n",
        "import numpy as np\n",
        "import pandas as pd\n",
        "import ast\n",
        "\n",
        "shortDate = \"12/22/2022\"\n",
        "longDate = \"12/23/2022\"\n",
        "\n",
        "shortCallChain = ops.get_calls(\"spy\", shortDate)\n",
        "longCallChain = ops.get_calls(\"spy\", longDate)\n",
        "\n",
        "data_12 = shortCallChain.merge(longCallChain, indicator = True, on='Strike')\n",
        "\n",
        "cost_of_spread = 0.07\n",
        "\n",
        "data_12['AskBid_spread_xy'] = abs(data_12['Ask_x'] - data_12['Bid_y'])\n",
        "data_12_results = data_12.where(data_12['AskBid_spread_xy'] < cost_of_spread).dropna()\n",
        "\n",
        "print(data_12_results[['Strike','AskBid_spread_xy', 'Volume_x', 'Volume_y']])"
      ],
      "metadata": {
        "id": "S_su2ESyF3nm",
        "outputId": "297170f1-f521-4682-861b-2568449a8d32",
        "colab": {
          "base_uri": "https://localhost:8080/",
          "height": 373
        }
      },
      "execution_count": null,
      "outputs": [
        {
          "output_type": "error",
          "ename": "ModuleNotFoundError",
          "evalue": "ignored",
          "traceback": [
            "\u001b[0;31m---------------------------------------------------------------------------\u001b[0m",
            "\u001b[0;31mModuleNotFoundError\u001b[0m                       Traceback (most recent call last)",
            "\u001b[0;32m<ipython-input-1-3112c2f9b667>\u001b[0m in \u001b[0;36m<module>\u001b[0;34m\u001b[0m\n\u001b[0;32m----> 1\u001b[0;31m \u001b[0;32mfrom\u001b[0m \u001b[0myahoo_fin\u001b[0m\u001b[0;34m.\u001b[0m\u001b[0mstock_info\u001b[0m \u001b[0;32mimport\u001b[0m \u001b[0mget_data\u001b[0m\u001b[0;34m\u001b[0m\u001b[0;34m\u001b[0m\u001b[0m\n\u001b[0m\u001b[1;32m      2\u001b[0m \u001b[0;32mimport\u001b[0m \u001b[0myahoo_fin\u001b[0m\u001b[0;34m.\u001b[0m\u001b[0moptions\u001b[0m \u001b[0;32mas\u001b[0m \u001b[0mops\u001b[0m\u001b[0;34m\u001b[0m\u001b[0;34m\u001b[0m\u001b[0m\n\u001b[1;32m      3\u001b[0m \u001b[0;32mimport\u001b[0m \u001b[0myahoo_fin\u001b[0m\u001b[0;34m.\u001b[0m\u001b[0mstock_info\u001b[0m \u001b[0;32mas\u001b[0m \u001b[0msi\u001b[0m\u001b[0;34m\u001b[0m\u001b[0;34m\u001b[0m\u001b[0m\n\u001b[1;32m      4\u001b[0m \u001b[0;32mimport\u001b[0m \u001b[0mnumpy\u001b[0m \u001b[0;32mas\u001b[0m \u001b[0mnp\u001b[0m\u001b[0;34m\u001b[0m\u001b[0;34m\u001b[0m\u001b[0m\n\u001b[1;32m      5\u001b[0m \u001b[0;32mimport\u001b[0m \u001b[0mpandas\u001b[0m \u001b[0;32mas\u001b[0m \u001b[0mpd\u001b[0m\u001b[0;34m\u001b[0m\u001b[0;34m\u001b[0m\u001b[0m\n",
            "\u001b[0;31mModuleNotFoundError\u001b[0m: No module named 'yahoo_fin'",
            "",
            "\u001b[0;31m---------------------------------------------------------------------------\u001b[0;32m\nNOTE: If your import is failing due to a missing package, you can\nmanually install dependencies using either !pip or !apt.\n\nTo view examples of installing some common dependencies, click the\n\"Open Examples\" button below.\n\u001b[0;31m---------------------------------------------------------------------------\u001b[0m\n"
          ],
          "errorDetails": {
            "actions": [
              {
                "action": "open_url",
                "actionText": "Open Examples",
                "url": "/notebooks/snippets/importing_libraries.ipynb"
              }
            ]
          }
        }
      ]
    },
    {
      "cell_type": "code",
      "source": [
        "from yahoo_fin.stock_info import get_data\n",
        "import yahoo_fin.options as ops\n",
        "import yahoo_fin.stock_info as si\n",
        "import numpy as np\n",
        "import pandas as pd\n",
        "\n",
        "shortDate = \"12/22/2022\"\n",
        "longDate = \"12/23/2022\"\n",
        "\n",
        "shortPutChain = ops.get_puts(\"spy\", shortDate)\n",
        "longPutChain = ops.get_puts(\"spy\", longDate)\n",
        "\n",
        "data_12 = shortPutChain.merge(longPutChain, indicator = True, on='Strike')\n",
        "\n",
        "cost_of_spread = 0.07\n",
        "\n",
        "data_12['AskBid_spread_xy'] = abs(data_12['Ask_x'] - data_12['Bid_y'])\n",
        "data_12_results = data_12.where(data_12['AskBid_spread_xy'] < cost_of_spread).dropna()\n",
        "\n",
        "print(data_12_results[['Strike','AskBid_spread_xy']])"
      ],
      "metadata": {
        "id": "ZPHIi7aj8qkg"
      },
      "execution_count": null,
      "outputs": []
    }
  ]
}